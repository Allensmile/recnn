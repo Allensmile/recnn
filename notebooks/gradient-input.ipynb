{
 "cells": [
  {
   "cell_type": "code",
   "execution_count": 1,
   "metadata": {
    "collapsed": true
   },
   "outputs": [],
   "source": [
    "import sys\n",
    "sys.path.append(\"..\")"
   ]
  },
  {
   "cell_type": "code",
   "execution_count": 2,
   "metadata": {
    "collapsed": true
   },
   "outputs": [],
   "source": [
    "import numpy as np\n",
    "import logging\n",
    "import pickle\n",
    "\n",
    "from sklearn.metrics import roc_auc_score\n",
    "from sklearn.preprocessing import RobustScaler\n",
    "from sklearn.utils import check_random_state\n",
    "\n",
    "from recnn.preprocessing import permute_by_pt\n",
    "from recnn.preprocessing import rotate\n",
    "from recnn.recnn import grnn_transform_gated\n",
    "from recnn.recnn import grnn_predict_gated\n",
    "\n",
    "%matplotlib inline\n",
    "import matplotlib.pyplot as plt\n",
    "plt.rcParams[\"figure.figsize\"] = (8,8)"
   ]
  },
  {
   "cell_type": "code",
   "execution_count": 3,
   "metadata": {
    "collapsed": false
   },
   "outputs": [
    {
     "name": "stdout",
     "output_type": "stream",
     "text": [
      "Loading training data...\n",
      "\tfilename = ../data/w-vs-qcd/kt-train.pickle\n",
      "\tX size = 80000\n",
      "\ty size = 80000\n",
      "Preprocessing...\n",
      "Loading test data...\n",
      "\tfilename = ../data/w-vs-qcd/kt-test.pickle\n",
      "\tX size = 20000\n",
      "\ty size = 20000\n",
      "Preprocessing...\n"
     ]
    }
   ],
   "source": [
    "filename_train = \"../data/w-vs-qcd/kt-train.pickle\"\n",
    "filename_test = \"../data/w-vs-qcd/kt-test.pickle\"\n",
    "\n",
    "rng = check_random_state(1)\n",
    "\n",
    "# Make training data\n",
    "print(\"Loading training data...\")\n",
    "\n",
    "fd = open(filename_train, \"rb\")\n",
    "X, y = pickle.load(fd)\n",
    "fd.close()\n",
    "y = np.array(y)\n",
    "\n",
    "print(\"\\tfilename = %s\" % filename_train)\n",
    "print(\"\\tX size = %d\" % len(X))\n",
    "print(\"\\ty size = %d\" % len(y))\n",
    "\n",
    "# Preprocessing \n",
    "print(\"Preprocessing...\")\n",
    "X = [rotate(permute_by_pt(jet)) for jet in X]\n",
    "tf = RobustScaler().fit(np.vstack([jet[\"content\"] for jet in X]))\n",
    "\n",
    "for jet in X:\n",
    "    jet[\"content\"] = tf.transform(jet[\"content\"])\n",
    "\n",
    "# Make test data \n",
    "print(\"Loading test data...\")\n",
    "\n",
    "fd = open(filename_test, \"rb\")\n",
    "X, y = pickle.load(fd)\n",
    "fd.close()\n",
    "y = np.array(y)\n",
    "\n",
    "print(\"\\tfilename = %s\" % filename_test)\n",
    "print(\"\\tX size = %d\" % len(X))\n",
    "print(\"\\ty size = %d\" % len(y))\n",
    "\n",
    "# Preprocessing \n",
    "print(\"Preprocessing...\")\n",
    "X = [rotate(permute_by_pt(jet)) for jet in X]\n",
    "\n",
    "for jet in X:\n",
    "    jet[\"content\"] = tf.transform(jet[\"content\"])"
   ]
  },
  {
   "cell_type": "code",
   "execution_count": 4,
   "metadata": {
    "collapsed": false
   },
   "outputs": [
    {
     "name": "stdout",
     "output_type": "stream",
     "text": [
      "Loading model...\n",
      "\tfilename = ../models/step_size+decay/w-simple-0.001-0.9.pickle\n"
     ]
    }
   ],
   "source": [
    "# Loading model \n",
    "print(\"Loading model...\")\n",
    "\n",
    "filename_model = \"../models/step_size+decay/w-simple-0.001-0.9.pickle\"\n",
    "fd = open(filename_model, \"rb\")\n",
    "params = pickle.load(fd)\n",
    "fd.close()\n",
    "\n",
    "print(\"\\tfilename = %s\" % filename_model)"
   ]
  },
  {
   "cell_type": "code",
   "execution_count": 5,
   "metadata": {
    "collapsed": false
   },
   "outputs": [
    {
     "data": {
      "text/plain": [
       "0.88219467000000007"
      ]
     },
     "execution_count": 5,
     "metadata": {},
     "output_type": "execute_result"
    }
   ],
   "source": [
    "from recnn.recnn import grnn_predict_simple\n",
    "from sklearn.metrics import roc_auc_score\n",
    "roc_auc_score(y, grnn_predict_simple(params, X))"
   ]
  },
  {
   "cell_type": "code",
   "execution_count": 28,
   "metadata": {
    "collapsed": true
   },
   "outputs": [],
   "source": [
    "import autograd.numpy as np\n",
    "from recnn.recnn import relu, sigmoid\n",
    "\n",
    "def grnn_predict(v, node_id, params, jet):   \n",
    "    tree = jet[\"tree\"]\n",
    "    \n",
    "    content = jet[\"content\"]\n",
    "    content = np.vstack([content[:node_id], \n",
    "                         v.reshape(1, -1),  # hook in new content\n",
    "                         content[node_id+1:]])\n",
    "    \n",
    "    def _rec(node_id):\n",
    "        u_k = relu(np.dot(params[\"W_u\"], content[node_id].T).T + \n",
    "                   params[\"b_u\"]).reshape(1, -1)\n",
    "        \n",
    "        if tree[node_id, 0] == -1:\n",
    "            return u_k \n",
    "        \n",
    "        else:\n",
    "            h_L = _rec(tree[node_id, 0])\n",
    "            h_R = _rec(tree[node_id, 1])\n",
    "            h = relu(np.dot(params[\"W_h\"],\n",
    "                            np.hstack((h_L, h_R, u_k)).T).T +\n",
    "                     params[\"b_h\"])\n",
    "            return h\n",
    "        \n",
    "    h = _rec(jet[\"root_id\"])\n",
    "    \n",
    "    h = relu(np.dot(params[\"W_clf\"][0], h.T).T + params[\"b_clf\"][0])\n",
    "    h = relu(np.dot(params[\"W_clf\"][1], h.T).T + params[\"b_clf\"][1])\n",
    "    h = sigmoid(np.dot(params[\"W_clf\"][2], h.T).T + params[\"b_clf\"][2])\n",
    "\n",
    "    return h.ravel()"
   ]
  },
  {
   "cell_type": "code",
   "execution_count": 29,
   "metadata": {
    "collapsed": false
   },
   "outputs": [
    {
     "name": "stdout",
     "output_type": "stream",
     "text": [
      "[ 0.0958655]\n",
      "[ 0.0958655]\n",
      "[ 0.2497271]\n",
      "[ 0.2497271]\n",
      "[ 0.96485677]\n",
      "[ 0.96485677]\n",
      "[ 0.19484276]\n",
      "[ 0.19484276]\n",
      "[ 0.46790763]\n",
      "[ 0.46790763]\n",
      "[ 0.18409799]\n",
      "[ 0.18409799]\n",
      "[ 0.96548445]\n",
      "[ 0.96548445]\n",
      "[ 0.12093088]\n",
      "[ 0.12093088]\n",
      "[ 0.22971709]\n",
      "[ 0.22971709]\n",
      "[ 0.26538199]\n",
      "[ 0.26538199]\n"
     ]
    }
   ],
   "source": [
    "# double check this rewritten function gives same results\n",
    "\n",
    "for jet_id in np.random.permutation(len(X))[:10]:\n",
    "    jet = X[jet_id]\n",
    "    j = np.random.randint(len(jet[\"tree\"]))\n",
    "    print(grnn_predict(jet[\"content\"][j], j, params, jet))\n",
    "    print(grnn_predict_simple(params, [jet]))"
   ]
  },
  {
   "cell_type": "code",
   "execution_count": 80,
   "metadata": {
    "collapsed": false
   },
   "outputs": [
    {
     "name": "stdout",
     "output_type": "stream",
     "text": [
      "[ 0.37480144]\n",
      "[ 0.37521856]\n",
      "[ 0.37563605]\n",
      "[ 0.3760539]\n",
      "[ 0.37647213]\n",
      "[ 0.37689073]\n",
      "[ 0.37730969]\n",
      "[ 0.37772902]\n",
      "[ 0.37814872]\n",
      "[ 0.37856878]\n",
      "[ 0.37898921]\n",
      "[ 0.37941]\n",
      "[ 0.37985504]\n",
      "[ 0.3806107]\n",
      "[ 0.38136752]\n",
      "[ 0.38212549]\n",
      "[ 0.38288462]\n",
      "[ 0.38364489]\n",
      "[ 0.38440631]\n",
      "[ 0.38516886]\n",
      "[ 0.38593254]\n",
      "[ 0.38669734]\n",
      "[ 0.38746327]\n",
      "[ 0.38823032]\n",
      "[ 0.38899847]\n",
      "[ 0.38976773]\n",
      "[ 0.39052078]\n",
      "[ 0.39121537]\n",
      "[ 0.39191085]\n",
      "[ 0.39260721]\n",
      "[ 0.3931951]\n",
      "[ 0.39365516]\n",
      "[ 0.39388979]\n",
      "[ 0.39412452]\n",
      "[ 0.39435934]\n",
      "[ 0.39459427]\n",
      "[ 0.39482929]\n",
      "[ 0.3950644]\n",
      "[ 0.39529962]\n",
      "[ 0.39553493]\n",
      "[ 0.39577034]\n",
      "[ 0.39600585]\n",
      "[ 0.39624145]\n",
      "[ 0.39647715]\n",
      "[ 0.39671294]\n",
      "[ 0.39694884]\n",
      "[ 0.39718482]\n",
      "[ 0.39742091]\n",
      "[ 0.39765708]\n",
      "[ 0.39789336]\n",
      "[ 0.39816124]\n",
      "[ 0.39848976]\n",
      "[ 0.39881846]\n",
      "[ 0.39914735]\n",
      "[ 0.39947642]\n",
      "[ 0.39980567]\n",
      "[ 0.4001351]\n",
      "[ 0.40046525]\n",
      "[ 0.4007975]\n",
      "[ 0.40112993]\n",
      "[ 0.40145575]\n",
      "[ 0.40176891]\n",
      "[ 0.40208222]\n",
      "[ 0.40239569]\n",
      "[ 0.40270933]\n",
      "[ 0.40302312]\n",
      "[ 0.40333708]\n",
      "[ 0.40365119]\n",
      "[ 0.40396546]\n",
      "[ 0.40427826]\n",
      "[ 0.40458926]\n",
      "[ 0.40490041]\n",
      "[ 0.40521171]\n",
      "[ 0.40552317]\n",
      "[ 0.40583478]\n",
      "[ 0.40614655]\n",
      "[ 0.40645846]\n",
      "[ 0.40677053]\n",
      "[ 0.40708274]\n",
      "[ 0.40739511]\n",
      "[ 0.40770762]\n",
      "[ 0.40802029]\n",
      "[ 0.4083331]\n",
      "[ 0.40864607]\n",
      "[ 0.40895918]\n",
      "[ 0.40927244]\n",
      "[ 0.40958584]\n",
      "[ 0.4098994]\n",
      "[ 0.4102131]\n",
      "[ 0.41052695]\n",
      "[ 0.41084094]\n",
      "[ 0.41112923]\n",
      "[ 0.41139729]\n",
      "[ 0.41166545]\n",
      "[ 0.4119343]\n",
      "[ 0.41221694]\n",
      "[ 0.4124997]\n",
      "[ 0.41278257]\n",
      "[ 0.41306556]\n",
      "[ 0.41334867]\n"
     ]
    }
   ],
   "source": [
    "import autograd as ag\n",
    "df = ag.grad(grnn_predict)\n",
    "\n",
    "jet = X[123]\n",
    "node_id = 50\n",
    "v = jet[\"content\"][node_id].copy()\n",
    "\n",
    "for i in range(100):\n",
    "    print(grnn_predict(v, node_id, params, jet))\n",
    "    v += df(v, node_id, params, jet)   # negative step to make it more background like and vice-versa\n"
   ]
  }
 ],
 "metadata": {
  "kernelspec": {
   "display_name": "Python 3",
   "language": "python",
   "name": "python3"
  },
  "language_info": {
   "codemirror_mode": {
    "name": "ipython",
    "version": 3
   },
   "file_extension": ".py",
   "mimetype": "text/x-python",
   "name": "python",
   "nbconvert_exporter": "python",
   "pygments_lexer": "ipython3",
   "version": "3.5.1"
  }
 },
 "nbformat": 4,
 "nbformat_minor": 0
}
