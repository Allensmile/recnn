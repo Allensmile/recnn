{
 "cells": [
  {
   "cell_type": "code",
   "execution_count": 1,
   "metadata": {
    "collapsed": true
   },
   "outputs": [],
   "source": [
    "import pickle"
   ]
  },
  {
   "cell_type": "code",
   "execution_count": 13,
   "metadata": {
    "collapsed": false
   },
   "outputs": [
    {
     "name": "stdout",
     "output_type": "stream",
     "text": [
      "File loaded.\n",
      "New file saved.\n"
     ]
    }
   ],
   "source": [
    "# f = \"../data/w-vs-qcd/anti-kt/antikt-train.pickle\"\n",
    "# f = \"../data/w-vs-qcd/anti-kt/antikt-test.pickle\"\n",
    "# f = \"../data/z/anti-kt/antikt-train.pickle\"\n",
    "f = \"../data/z/anti-kt/antikt-test.pickle\"\n",
    "\n",
    "fd = open(f, \"rb\")\n",
    "X, y = pickle.load(fd)\n",
    "fd.close()\n",
    "print(\"File loaded.\")\n",
    "\n",
    "fd = open(\"%s-py27\" % f, \"wb\")\n",
    "pickle.dump((X, y), fd, protocol=2)\n",
    "fd.close()\n",
    "print(\"New file saved.\")"
   ]
  }
 ],
 "metadata": {
  "kernelspec": {
   "display_name": "Python 3",
   "language": "python",
   "name": "python3"
  },
  "language_info": {
   "codemirror_mode": {
    "name": "ipython",
    "version": 3
   },
   "file_extension": ".py",
   "mimetype": "text/x-python",
   "name": "python",
   "nbconvert_exporter": "python",
   "pygments_lexer": "ipython3",
   "version": "3.5.1"
  }
 },
 "nbformat": 4,
 "nbformat_minor": 0
}
