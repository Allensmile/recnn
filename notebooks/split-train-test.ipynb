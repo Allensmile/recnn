{
 "cells": [
  {
   "cell_type": "code",
   "execution_count": 1,
   "metadata": {
    "collapsed": true
   },
   "outputs": [],
   "source": [
    "import sys\n",
    "sys.path.append(\"..\")"
   ]
  },
  {
   "cell_type": "code",
   "execution_count": 2,
   "metadata": {
    "collapsed": false
   },
   "outputs": [],
   "source": [
    "import numpy as np\n",
    "import pickle\n",
    "from recnn.preprocessing import load_from_pickle"
   ]
  },
  {
   "cell_type": "markdown",
   "metadata": {},
   "source": [
    "# W vs QCD"
   ]
  },
  {
   "cell_type": "code",
   "execution_count": 3,
   "metadata": {
    "collapsed": true
   },
   "outputs": [],
   "source": [
    "background = load_from_pickle(\"/home/gilles/gdrive/research/sandbox/learning-qcd-rnn/data/w-vs-qcd/anti-kt/antikt-qcd.pickle\", 100000)\n",
    "signal = load_from_pickle(\"/home/gilles/gdrive/research/sandbox/learning-qcd-rnn/data/w-vs-qcd/anti-kt/antikt-w.pickle\", 100000)\n",
    "\n",
    "X_train = []\n",
    "y_train = []\n",
    "X_test = []\n",
    "y_test = []\n",
    "\n",
    "for i in range(90000):\n",
    "    X_train.append(background[i])\n",
    "    y_train.append(0)\n",
    "for i in range(90000):\n",
    "    X_train.append(signal[i])\n",
    "    y_train.append(1)\n",
    "for i in range(90000, 100000):\n",
    "    X_test.append(background[i])\n",
    "    y_test.append(0)\n",
    "for i in range(90000, 100000):\n",
    "    X_test.append(signal[i])\n",
    "    y_test.append(1)\n",
    "    \n",
    "fd = open(\"../data/w-vs-qcd/anti-kt/antikt-train.pickle\", \"wb\")\n",
    "pickle.dump((X_train, y_train), fd, protocol=pickle.HIGHEST_PROTOCOL)\n",
    "fd.close()\n",
    "fd = open(\"../data/w-vs-qcd/anti-kt/antikt-test.pickle\", \"wb\")\n",
    "pickle.dump((X_test, y_test), fd, protocol=pickle.HIGHEST_PROTOCOL)\n",
    "fd.close()"
   ]
  },
  {
   "cell_type": "code",
   "execution_count": 3,
   "metadata": {
    "collapsed": true
   },
   "outputs": [],
   "source": [
    "# delphes data\n",
    "background = load_from_pickle(\"/home/gilles/gdrive/research/sandbox/learning-qcd-rnn/data/w-vs-qcd/anti-kt/antikt-qcd-delphes.pickle\", 100000)\n",
    "signal = load_from_pickle(\"/home/gilles/gdrive/research/sandbox/learning-qcd-rnn/data/w-vs-qcd/anti-kt/antikt-w-delphes.pickle\", 100000)\n",
    "\n",
    "X_train = []\n",
    "y_train = []\n",
    "X_test = []\n",
    "y_test = []\n",
    "\n",
    "for i in range(90000):\n",
    "    X_train.append(background[i])\n",
    "    y_train.append(0)\n",
    "for i in range(90000):\n",
    "    X_train.append(signal[i])\n",
    "    y_train.append(1)\n",
    "for i in range(90000, 100000):\n",
    "    X_test.append(background[i])\n",
    "    y_test.append(0)\n",
    "for i in range(90000, 100000):\n",
    "    X_test.append(signal[i])\n",
    "    y_test.append(1)\n",
    "    \n",
    "fd = open(\"../data/w-vs-qcd/anti-kt/antikt-delphes-train.pickle\", \"wb\")\n",
    "pickle.dump((X_train, y_train), fd, protocol=pickle.HIGHEST_PROTOCOL)\n",
    "fd.close()\n",
    "fd = open(\"../data/w-vs-qcd/anti-kt/antikt-delphes-test.pickle\", \"wb\")\n",
    "pickle.dump((X_test, y_test), fd, protocol=pickle.HIGHEST_PROTOCOL)\n",
    "fd.close()"
   ]
  },
  {
   "cell_type": "code",
   "execution_count": 3,
   "metadata": {
    "collapsed": true
   },
   "outputs": [],
   "source": [
    "# images data\n",
    "background = load_from_pickle(\"/home/gilles/gdrive/research/sandbox/learning-qcd-rnn/data/w-vs-qcd/anti-kt/images-qcd.pickle\", 100000)\n",
    "signal = load_from_pickle(\"/home/gilles/gdrive/research/sandbox/learning-qcd-rnn/data/w-vs-qcd/anti-kt/images-w.pickle\", 100000)\n",
    "\n",
    "X_train = []\n",
    "y_train = []\n",
    "X_test = []\n",
    "y_test = []\n",
    "\n",
    "for i in range(90000):\n",
    "    X_train.append(background[i])\n",
    "    y_train.append(0)\n",
    "for i in range(90000):\n",
    "    X_train.append(signal[i])\n",
    "    y_train.append(1)\n",
    "for i in range(90000, 100000):\n",
    "    X_test.append(background[i])\n",
    "    y_test.append(0)\n",
    "for i in range(90000, 100000):\n",
    "    X_test.append(signal[i])\n",
    "    y_test.append(1)\n",
    "    \n",
    "fd = open(\"../data/w-vs-qcd/anti-kt/images-train.pickle\", \"wb\")\n",
    "pickle.dump((X_train, y_train), fd, protocol=pickle.HIGHEST_PROTOCOL)\n",
    "fd.close()\n",
    "fd = open(\"../data/w-vs-qcd/anti-kt/images-test.pickle\", \"wb\")\n",
    "pickle.dump((X_test, y_test), fd, protocol=pickle.HIGHEST_PROTOCOL)\n",
    "fd.close()"
   ]
  },
  {
   "cell_type": "code",
   "execution_count": 4,
   "metadata": {
    "collapsed": false
   },
   "outputs": [],
   "source": [
    "import pickle\n",
    "\n",
    "fd = open(\"../data/w-vs-qcd/anti-kt/images-train.pickle\", \"rb\")\n",
    "X, y = pickle.load(fd)\n",
    "fd.close()\n",
    "\n",
    "indices = np.random.permutation(len(X))\n",
    "X = [X[i] for i in indices[:80000]]\n",
    "y = [y[i] for i in indices[:80000]]\n",
    "\n",
    "fd = open(\"../data/w-vs-qcd/anti-kt/images-train-80k.pickle\", \"wb\")\n",
    "pickle.dump((X, y), fd, protocol=pickle.HIGHEST_PROTOCOL)\n",
    "fd.close()"
   ]
  },
  {
   "cell_type": "code",
   "execution_count": 4,
   "metadata": {
    "collapsed": true
   },
   "outputs": [],
   "source": [
    "# event-level data\n",
    "fd_background = open(\"/home/gilles/gdrive/research/sandbox/learning-qcd-rnn/data/w-vs-qcd/anti-kt/antikt-qcd-event.pickle\", \"rb\")\n",
    "fd_signal = open(\"/home/gilles/gdrive/research/sandbox/learning-qcd-rnn/data/w-vs-qcd/anti-kt/antikt-w-event.pickle\", \"rb\")\n",
    "# fd_background = open(\"/home/gilles/gdrive/research/sandbox/learning-qcd-rnn/data/w-vs-qcd/anti-kt/antikt-delphes-qcd-event.pickle\", \"rb\")\n",
    "# fd_signal = open(\"/home/gilles/gdrive/research/sandbox/learning-qcd-rnn/data/w-vs-qcd/anti-kt/antikt-delphes-w-event.pickle\", \"rb\")\n",
    "\n",
    "fd_train = open(\"../data/w-vs-qcd/anti-kt/antikt-event-train.pickle\", \"wb\")\n",
    "# fd_train = open(\"../data/w-vs-qcd/anti-kt/antikt-delphes-event-train.pickle\", \"wb\")\n",
    "for i in range(40000):\n",
    "    event = pickle.load(fd_background)\n",
    "    pickle.dump((event, 0), fd_train, protocol=2)\n",
    "    event = pickle.load(fd_signal)\n",
    "    pickle.dump((event, 1), fd_train, protocol=2)\n",
    "fd_train.close()\n",
    "\n",
    "fd_test = open(\"../data/w-vs-qcd/anti-kt/antikt-event-test.pickle\", \"wb\")\n",
    "# fd_test = open(\"../data/w-vs-qcd/anti-kt/antikt-delphes-event-test.pickle\", \"wb\")\n",
    "for i in range(10000):\n",
    "    event = pickle.load(fd_background)\n",
    "    pickle.dump((event, 0), fd_test, protocol=2)\n",
    "    event = pickle.load(fd_signal)\n",
    "    pickle.dump((event, 1), fd_test, protocol=2)\n",
    "fd_test.close()"
   ]
  },
  {
   "cell_type": "code",
   "execution_count": 8,
   "metadata": {
    "collapsed": true
   },
   "outputs": [],
   "source": [
    "import pickle\n",
    "\n",
    "fd = open(\"../data/w-vs-qcd/anti-kt/antikt-event-test.pickle\", \"rb\")\n",
    "\n",
    "vals_w = []\n",
    "vals_qcd = []\n",
    "\n",
    "for i in range(10000):\n",
    "    e, y = pickle.load(fd)\n",
    "    \n",
    "    s_x = 0.0\n",
    "    s_y = 0.0\n",
    "    \n",
    "    for j in e:\n",
    "        leaves = j[\"tree\"][:, 0] == -1\n",
    "        v = j[\"content\"][leaves]\n",
    "        s_x += v[:, 0].sum()\n",
    "        s_y += v[:, 1].sum()\n",
    "        \n",
    "    v = (s_x ** 2 + s_y ** 2) ** 0.5\n",
    "    \n",
    "    if y == 0:\n",
    "        vals_qcd.append(v)\n",
    "    else:\n",
    "        vals_w.append(v)\n",
    "    \n",
    "fd.close()"
   ]
  },
  {
   "cell_type": "code",
   "execution_count": 11,
   "metadata": {
    "collapsed": false
   },
   "outputs": [
    {
     "data": {
      "image/png": "[encoded data removed]",
      "text/plain": [
       "<matplotlib.figure.Figure at 0x7fbae5846ad0>"
      ]
     },
     "metadata": {},
     "output_type": "display_data"
    },
    {
     "data": {
      "image/png": "[encoded data removed]",
      "text/plain": [
       "<matplotlib.figure.Figure at 0x7fbae5613e50>"
      ]
     },
     "metadata": {},
     "output_type": "display_data"
    }
   ],
   "source": [
    "%matplotlib inline\n",
    "import matplotlib.pyplot as plt\n",
    "\n",
    "plt.hist(vals_w, histtype=\"step\", label=\"w\", bins=50, normed=1)\n",
    "plt.legend()\n",
    "plt.show()\n",
    "\n",
    "plt.hist(vals_qcd, histtype=\"step\", label=\"qcd\", bins=50, normed=1)\n",
    "plt.legend()\n",
    "plt.show()"
   ]
  },
  {
   "cell_type": "markdown",
   "metadata": {},
   "source": [
    "# Z vs background"
   ]
  },
  {
   "cell_type": "code",
   "execution_count": 3,
   "metadata": {
    "collapsed": true
   },
   "outputs": [],
   "source": [
    "length = 39473\n",
    "\n",
    "background = load_from_pickle(\"/home/gilles/gdrive/research/sandbox/learning-qcd-rnn/data/z/anti-kt/antikt-background.pickle\", length)\n",
    "signal = load_from_pickle(\"/home/gilles/gdrive/research/sandbox/learning-qcd-rnn/data/z/anti-kt/antikt-mH700.pickle\", length)\n",
    "\n",
    "X_train = []\n",
    "y_train = []\n",
    "X_test = []\n",
    "y_test = []\n",
    "\n",
    "for i in range(length-10000):\n",
    "    X_train.append(background[i])\n",
    "    y_train.append(0)\n",
    "for i in range(length-10000):\n",
    "    X_train.append(signal[i])\n",
    "    y_train.append(1)\n",
    "for i in range(length-10000, length):\n",
    "    X_test.append(background[i])\n",
    "    y_test.append(0)\n",
    "for i in range(length-10000, length):\n",
    "    X_test.append(signal[i])\n",
    "    y_test.append(1)\n",
    "    \n",
    "fd = open(\"../data/z/anti-kt/antikt-train.pickle\", \"wb\")\n",
    "pickle.dump((X_train, y_train), fd, protocol=pickle.HIGHEST_PROTOCOL)\n",
    "fd.close()\n",
    "fd = open(\"../data/z/anti-kt/antikt-test.pickle\", \"wb\")\n",
    "pickle.dump((X_test, y_test), fd, protocol=pickle.HIGHEST_PROTOCOL)\n",
    "fd.close()"
   ]
  }
 ],
 "metadata": {
  "kernelspec": {
   "display_name": "Python 2",
   "language": "python",
   "name": "python2"
  },
  "language_info": {
   "codemirror_mode": {
    "name": "ipython",
    "version": 2
   },
   "file_extension": ".py",
   "mimetype": "text/x-python",
   "name": "python",
   "nbconvert_exporter": "python",
   "pygments_lexer": "ipython2",
   "version": "2.7.11"
  }
 },
 "nbformat": 4,
 "nbformat_minor": 0
}
