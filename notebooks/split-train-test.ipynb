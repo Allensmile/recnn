{
 "cells": [
  {
   "cell_type": "code",
   "execution_count": 1,
   "metadata": {
    "collapsed": true
   },
   "outputs": [],
   "source": [
    "import sys\n",
    "sys.path.append(\"..\")"
   ]
  },
  {
   "cell_type": "code",
   "execution_count": 2,
   "metadata": {
    "collapsed": false
   },
   "outputs": [],
   "source": [
    "import numpy as np\n",
    "import pickle\n",
    "from recnn.preprocessing import load_from_pickle"
   ]
  },
  {
   "cell_type": "markdown",
   "metadata": {},
   "source": [
    "# W vs QCD"
   ]
  },
  {
   "cell_type": "code",
   "execution_count": 12,
   "metadata": {
    "collapsed": true
   },
   "outputs": [],
   "source": [
    "background = load_from_pickle(\"/home/gilles/gdrive/research/sandbox/learning-qcd-rnn/data/w-vs-qcd/kt-qcd.pickle\", 50000)\n",
    "signal = load_from_pickle(\"/home/gilles/gdrive/research/sandbox/learning-qcd-rnn/data/w-vs-qcd/kt-w.pickle\", 50000)\n",
    "\n",
    "X_train = []\n",
    "y_train = []\n",
    "X_test = []\n",
    "y_test = []\n",
    "\n",
    "for i in range(40000):\n",
    "    X_train.append(background[i])\n",
    "    y_train.append(0)\n",
    "for i in range(40000):\n",
    "    X_train.append(signal[i])\n",
    "    y_train.append(1)\n",
    "for i in range(40000, 50000):\n",
    "    X_test.append(background[i])\n",
    "    y_test.append(0)\n",
    "for i in range(40000, 50000):\n",
    "    X_test.append(signal[i])\n",
    "    y_test.append(1)\n",
    "    \n",
    "fd = open(\"../data/w-vs-qcd/kt-train.pickle\", \"wb\")\n",
    "pickle.dump((X_train, y_train), fd, protocol=pickle.HIGHEST_PROTOCOL)\n",
    "fd.close()\n",
    "fd = open(\"../data/w-vs-qcd/kt-test.pickle\", \"wb\")\n",
    "pickle.dump((X_test, y_test), fd, protocol=pickle.HIGHEST_PROTOCOL)\n",
    "fd.close()"
   ]
  },
  {
   "cell_type": "markdown",
   "metadata": {},
   "source": [
    "# Z vs background"
   ]
  },
  {
   "cell_type": "code",
   "execution_count": 14,
   "metadata": {
    "collapsed": true
   },
   "outputs": [],
   "source": [
    "length = 39473\n",
    "\n",
    "background = load_from_pickle(\"/home/gilles/gdrive/research/sandbox/learning-qcd-rnn/data/z/kt-background.pickle\", length)\n",
    "signal = load_from_pickle(\"/home/gilles/gdrive/research/sandbox/learning-qcd-rnn/data/z/kt-mH700.pickle\", length)\n",
    "\n",
    "X_train = []\n",
    "y_train = []\n",
    "X_test = []\n",
    "y_test = []\n",
    "\n",
    "for i in range(length-10000):\n",
    "    X_train.append(background[i])\n",
    "    y_train.append(0)\n",
    "for i in range(length-10000):\n",
    "    X_train.append(signal[i])\n",
    "    y_train.append(1)\n",
    "for i in range(length-10000, length):\n",
    "    X_test.append(background[i])\n",
    "    y_test.append(0)\n",
    "for i in range(length-10000, length):\n",
    "    X_test.append(signal[i])\n",
    "    y_test.append(1)\n",
    "    \n",
    "fd = open(\"../data/z/kt-train.pickle\", \"wb\")\n",
    "pickle.dump((X_train, y_train), fd, protocol=pickle.HIGHEST_PROTOCOL)\n",
    "fd.close()\n",
    "fd = open(\"../data/z/kt-test.pickle\", \"wb\")\n",
    "pickle.dump((X_test, y_test), fd, protocol=pickle.HIGHEST_PROTOCOL)\n",
    "fd.close()"
   ]
  }
 ],
 "metadata": {
  "kernelspec": {
   "display_name": "Python 3",
   "language": "python",
   "name": "python3"
  },
  "language_info": {
   "codemirror_mode": {
    "name": "ipython",
    "version": 3
   },
   "file_extension": ".py",
   "mimetype": "text/x-python",
   "name": "python",
   "nbconvert_exporter": "python",
   "pygments_lexer": "ipython3",
   "version": "3.5.1"
  }
 },
 "nbformat": 4,
 "nbformat_minor": 0
}
