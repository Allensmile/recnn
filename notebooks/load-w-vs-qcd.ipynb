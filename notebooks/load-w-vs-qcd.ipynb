{
 "cells": [
  {
   "cell_type": "code",
   "execution_count": 1,
   "metadata": {
    "collapsed": false
   },
   "outputs": [],
   "source": [
    "%load_ext cython\n",
    "import numpy as np\n",
    "import h5py\n",
    "import pickle"
   ]
  },
  {
   "cell_type": "code",
   "execution_count": 2,
   "metadata": {
    "collapsed": true
   },
   "outputs": [],
   "source": [
    "%%cython -f -+ -I/usr/local/include --link-args=-Wl,-rpath,/usr/local/lib -lm -L/usr/local/lib -lfastjettools -lfastjet -lfastjetplugins -lsiscone_spherical -lsiscone\n",
    "import numpy as np\n",
    "cimport numpy as np\n",
    "np.import_array()\n",
    "\n",
    "from libcpp.pair cimport pair\n",
    "from libcpp.vector cimport vector\n",
    "\n",
    "cdef extern from \"/home/gilles/gdrive/research/sandbox/learning-qcd-rnn/notebooks/fj.cc\":\n",
    "    void fj(vector[double]& a, \n",
    "            vector[vector[int]]& trees, \n",
    "            vector[vector[double]]& contents, \n",
    "            vector[double]& masses, \n",
    "            vector[double]& pts, \n",
    "            double R, int jet_algorithm)\n",
    "    \n",
    "cpdef cluster(np.ndarray[np.double_t, ndim=2, mode=\"c\"] a, \n",
    "              R=1.0, jet_algorithm=0):\n",
    "    cdef vector[double] v\n",
    "    cdef vector[vector[int]] trees\n",
    "    cdef vector[vector[double]] contents\n",
    "    cdef vector[double] masses\n",
    "    cdef vector[double] pts \n",
    "    for value in a.ravel():\n",
    "        v.push_back(value)\n",
    "    \n",
    "    fj(v, trees, contents, masses, pts, R=R, jet_algorithm=jet_algorithm)\n",
    "    jets = []\n",
    "    \n",
    "    for tree, content, mass, pt in zip(trees, contents, masses, pts):\n",
    "        tree = np.array([e for e in tree]).reshape(-1, 2)\n",
    "        content = np.array([e for e in content]).reshape(-1, 4)\n",
    "        jets.append((tree, content, mass, pt))\n",
    "        \n",
    "    return jets"
   ]
  },
  {
   "cell_type": "code",
   "execution_count": 5,
   "metadata": {
    "collapsed": false
   },
   "outputs": [],
   "source": [
    "# f = h5py.File(\"../data/w-vs-qcd/h5/w_100000.h5\", \"r\")\n",
    "# f = h5py.File(\"../data/w-vs-qcd/h5/qcd_100000.h5\", \"r\")\n",
    "# f = h5py.File(\"../data/w-vs-qcd/h5/w_100000_delphes.h5\", \"r\")\n",
    "f = h5py.File(\"../data/w-vs-qcd/h5/qcd_100000_delphes.h5\", \"r\")\n",
    "events = f[\"events\"]\n",
    "\n",
    "def cast(event):\n",
    "    a = np.zeros((len(event), 4))\n",
    "    for i, p in enumerate(event):\n",
    "        a[i, 3] = p[0]\n",
    "        a[i, 0] = p[1]\n",
    "        a[i, 1] = p[2]\n",
    "        a[i, 2] = p[3]\n",
    "    return a\n",
    "\n",
    "# fd = open(\"../data/w-vs-qcd/kt/kt-w.pickle\", \"wb\")\n",
    "# fd = open(\"../data/w-vs-qcd/kt/kt-qcd.pickle\", \"wb\")\n",
    "# fd = open(\"../data/w-vs-qcd/anti-kt/antikt-w.pickle\", \"wb\")\n",
    "# fd = open(\"../data/w-vs-qcd/anti-kt/antikt-qcd.pickle\", \"wb\")\n",
    "# fd = open(\"../data/w-vs-qcd/anti-kt/antikt-delphes-w.pickle\", \"wb\")\n",
    "fd = open(\"../data/w-vs-qcd/anti-kt/antikt-delphes-qcd.pickle\", \"wb\")\n",
    "\n",
    "for e in events:\n",
    "    tree, content, mass, pt = cluster(cast(e), jet_algorithm=1)[0]  # dump highest pt jet only\n",
    "    \n",
    "    jet = {}\n",
    "    \n",
    "    jet[\"root_id\"] = 0\n",
    "    jet[\"tree\"] = tree\n",
    "    jet[\"content\"] = content\n",
    "    jet[\"mass\"] = mass\n",
    "    jet[\"pt\"] = pt\n",
    "    jet[\"energy\"] = content[0, 3]\n",
    "\n",
    "    px = content[0, 0]\n",
    "    py = content[0, 1]\n",
    "    pz = content[0, 2]\n",
    "    p = (content[0, 0:3] ** 2).sum() ** 0.5\n",
    "    eta = 0.5 * (np.log(p + pz) - np.log(p - pz))\n",
    "    phi = np.arctan2(py, px)\n",
    "    \n",
    "    jet[\"eta\"] = eta\n",
    "    jet[\"phi\"] = phi\n",
    "    \n",
    "    pickle.dump(jet, fd, protocol=2)\n",
    "    \n",
    "fd.close()"
   ]
  },
  {
   "cell_type": "markdown",
   "metadata": {},
   "source": [
    "---"
   ]
  },
  {
   "cell_type": "code",
   "execution_count": 2,
   "metadata": {
    "collapsed": false
   },
   "outputs": [],
   "source": [
    "#f = h5py.File(\"../data/w-vs-qcd/h5/qcd_100000_j1p0_sj0p30_delphes_jets_images.h5\", \"r\")\n",
    "f = h5py.File(\"../data/w-vs-qcd/h5/w_100000_j1p0_sj0p30_delphes_jets_images.h5\", \"r\")\n",
    "auxvars = f[\"auxvars\"].value\n",
    "events = f[\"images\"].value\n",
    "edges = np.linspace(-1, 1, 26)\n",
    "bins = (edges[:25] + edges[1:]) / 2."
   ]
  },
  {
   "cell_type": "code",
   "execution_count": 6,
   "metadata": {
    "collapsed": false,
    "scrolled": false
   },
   "outputs": [
    {
     "name": "stderr",
     "output_type": "stream",
     "text": [
      "/home/gilles/anaconda3/envs/hep/lib/python2.7/site-packages/ipykernel/__main__.py:7: RuntimeWarning: divide by zero encountered in log\n"
     ]
    },
    {
     "data": {
      "image/png": "[encoded data removed]",
      "text/plain": [
       "<matplotlib.figure.Figure at 0x7f31f1160750>"
      ]
     },
     "metadata": {},
     "output_type": "display_data"
    },
    {
     "data": {
      "image/png": "[encoded data removed]",
      "text/plain": [
       "<matplotlib.figure.Figure at 0x7f31ee342550>"
      ]
     },
     "metadata": {},
     "output_type": "display_data"
    },
    {
     "data": {
      "image/png": "[encoded data removed]",
      "text/plain": [
       "<matplotlib.figure.Figure at 0x7f31ee0a9b50>"
      ]
     },
     "metadata": {},
     "output_type": "display_data"
    },
    {
     "data": {
      "image/png": "[encoded data removed]",
      "text/plain": [
       "<matplotlib.figure.Figure at 0x7f31f0dd85d0>"
      ]
     },
     "metadata": {},
     "output_type": "display_data"
    },
    {
     "data": {
      "image/png": "[encoded data removed]",
      "text/plain": [
       "<matplotlib.figure.Figure at 0x7f31ee1e2a50>"
      ]
     },
     "metadata": {},
     "output_type": "display_data"
    },
    {
     "data": {
      "image/png": "[encoded data removed]",
      "text/plain": [
       "<matplotlib.figure.Figure at 0x7f31ee24ff50>"
      ]
     },
     "metadata": {},
     "output_type": "display_data"
    },
    {
     "data": {
      "image/png": "[encoded data removed]",
      "text/plain": [
       "<matplotlib.figure.Figure at 0x7f31ee237490>"
      ]
     },
     "metadata": {},
     "output_type": "display_data"
    },
    {
     "data": {
      "image/png": "[encoded data removed]",
      "text/plain": [
       "<matplotlib.figure.Figure at 0x7f31ee2daf50>"
      ]
     },
     "metadata": {},
     "output_type": "display_data"
    },
    {
     "data": {
      "image/png": "[encoded data removed]",
      "text/plain": [
       "<matplotlib.figure.Figure at 0x7f31f0e13e90>"
      ]
     },
     "metadata": {},
     "output_type": "display_data"
    },
    {
     "data": {
      "image/png": "[encoded data removed]",
      "text/plain": [
       "<matplotlib.figure.Figure at 0x7f31ee0d4490>"
      ]
     },
     "metadata": {},
     "output_type": "display_data"
    }
   ],
   "source": [
    "%matplotlib inline\n",
    "import matplotlib.pyplot as plt\n",
    "\n",
    "for i in range(len(events[:10])):\n",
    "    img = events[i]\n",
    "    img = img * auxvars[i][1] / img.sum()\n",
    "    plt.imshow(np.log(img), interpolation=\"nearest\")\n",
    "    plt.savefig(\"img-%d.png\" % i)\n",
    "    plt.show()"
   ]
  },
  {
   "cell_type": "code",
   "execution_count": 109,
   "metadata": {
    "collapsed": false
   },
   "outputs": [],
   "source": [
    "from rootpy.vector import LorentzVector\n",
    "\n",
    "# fd = open(\"../data/w-vs-qcd/anti-kt/images-qcd.pickle\", \"wb\")\n",
    "fd = open(\"../data/w-vs-qcd/anti-kt/images-w.pickle\", \"wb\")\n",
    "\n",
    "for i in range(len(events)):\n",
    "    img = events[i]\n",
    "    img = img * auxvars[i][1] / img.sum()\n",
    "    content = []\n",
    "    \n",
    "    for r, c in zip(*np.where(img)):\n",
    "        eta = bins[r]\n",
    "        phi = bins[c]\n",
    "        pt = img[r, c]\n",
    "        v = LorentzVector()\n",
    "        v.set_pt_eta_phi_m(pt, eta, phi, 0.0)\n",
    "        content.append((v.px, v.py, v.pz, v.E()))\n",
    "    \n",
    "    content = np.array(content)\n",
    "    \n",
    "    jet = {}\n",
    "    \n",
    "    tree, content, mass, pt = cluster(content, jet_algorithm=0, R=100)[0]  # recluster using KT, no further processing\n",
    "    \n",
    "    jet[\"root_id\"] = 0\n",
    "    jet[\"tree\"] = tree\n",
    "    jet[\"content\"] = content\n",
    "    jet[\"mass\"] = mass\n",
    "    jet[\"pt\"] = pt\n",
    "    jet[\"energy\"] = content[0, 3]\n",
    "\n",
    "    px = content[0, 0]\n",
    "    py = content[0, 1]\n",
    "    pz = content[0, 2]\n",
    "    p = (content[0, 0:3] ** 2).sum() ** 0.5\n",
    "    eta = 0.5 * (np.log(p + pz) - np.log(p - pz))\n",
    "    phi = np.arctan2(py, px)\n",
    "    \n",
    "    jet[\"eta\"] = eta\n",
    "    jet[\"phi\"] = phi\n",
    "    \n",
    "    pickle.dump(jet, fd, protocol=2)\n",
    "    \n",
    "fd.close()"
   ]
  }
 ],
 "metadata": {
  "kernelspec": {
   "display_name": "Python 2",
   "language": "python",
   "name": "python2"
  },
  "language_info": {
   "codemirror_mode": {
    "name": "ipython",
    "version": 2
   },
   "file_extension": ".py",
   "mimetype": "text/x-python",
   "name": "python",
   "nbconvert_exporter": "python",
   "pygments_lexer": "ipython2",
   "version": "2.7.11"
  }
 },
 "nbformat": 4,
 "nbformat_minor": 0
}
