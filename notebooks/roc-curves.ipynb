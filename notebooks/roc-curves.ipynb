{
 "cells": [
  {
   "cell_type": "code",
   "execution_count": 1,
   "metadata": {
    "collapsed": true
   },
   "outputs": [],
   "source": [
    "import sys\n",
    "sys.path.append(\"..\")"
   ]
  },
  {
   "cell_type": "code",
   "execution_count": 2,
   "metadata": {
    "collapsed": true
   },
   "outputs": [],
   "source": [
    "import numpy as np\n",
    "import logging\n",
    "import pickle\n",
    "\n",
    "from sklearn.metrics import roc_auc_score\n",
    "from sklearn.preprocessing import RobustScaler\n",
    "from sklearn.utils import check_random_state\n",
    "\n",
    "from recnn.preprocessing import permute_by_pt\n",
    "from recnn.preprocessing import rotate\n",
    "from recnn.recnn import grnn_predict_gated\n",
    "\n",
    "%matplotlib inline\n",
    "import matplotlib.pyplot as plt\n",
    "plt.rcParams[\"figure.figsize\"] = (8,8)"
   ]
  },
  {
   "cell_type": "code",
   "execution_count": 3,
   "metadata": {
    "collapsed": true
   },
   "outputs": [],
   "source": [
    "filename_train = \"../data/w-vs-qcd/kt-train.pickle\"\n",
    "filename_test = \"../data/w-vs-qcd/kt-test.pickle\"\n",
    "filename_model = \"../models/w-vs-qcd-20160614.pickle\""
   ]
  },
  {
   "cell_type": "code",
   "execution_count": 4,
   "metadata": {
    "collapsed": true
   },
   "outputs": [],
   "source": [
    "rng = check_random_state(1)"
   ]
  },
  {
   "cell_type": "code",
   "execution_count": 5,
   "metadata": {
    "collapsed": false
   },
   "outputs": [
    {
     "name": "stdout",
     "output_type": "stream",
     "text": [
      "Loading training data...\n",
      "\tfilename = ../data/w-vs-qcd/kt-train.pickle\n",
      "\tX size = 80000\n",
      "\ty size = 80000\n"
     ]
    }
   ],
   "source": [
    "# Make training data\n",
    "print(\"Loading training data...\")\n",
    "\n",
    "fd = open(filename_train, \"rb\")\n",
    "X, y = pickle.load(fd)\n",
    "fd.close()\n",
    "y = np.array(y)\n",
    "\n",
    "print(\"\\tfilename = %s\" % filename_train)\n",
    "print(\"\\tX size = %d\" % len(X))\n",
    "print(\"\\ty size = %d\" % len(y))"
   ]
  },
  {
   "cell_type": "code",
   "execution_count": 6,
   "metadata": {
    "collapsed": false
   },
   "outputs": [
    {
     "name": "stdout",
     "output_type": "stream",
     "text": [
      "Preprocessing...\n"
     ]
    }
   ],
   "source": [
    "# Preprocessing \n",
    "print(\"Preprocessing...\")\n",
    "X = [rotate(permute_by_pt(jet)) for jet in X]\n",
    "tf = RobustScaler().fit(np.vstack([jet[\"content\"] for jet in X]))\n",
    "\n",
    "for jet in X:\n",
    "    jet[\"content\"] = tf.transform(jet[\"content\"])"
   ]
  },
  {
   "cell_type": "code",
   "execution_count": 7,
   "metadata": {
    "collapsed": false
   },
   "outputs": [
    {
     "name": "stdout",
     "output_type": "stream",
     "text": [
      "Loading test data...\n",
      "\tfilename = ../data/w-vs-qcd/kt-test.pickle\n",
      "\tX size = 20000\n",
      "\ty size = 20000\n"
     ]
    }
   ],
   "source": [
    "# Make test data \n",
    "print(\"Loading test data...\")\n",
    "\n",
    "fd = open(filename_test, \"rb\")\n",
    "X, y = pickle.load(fd)\n",
    "fd.close()\n",
    "y = np.array(y)\n",
    "\n",
    "print(\"\\tfilename = %s\" % filename_test)\n",
    "print(\"\\tX size = %d\" % len(X))\n",
    "print(\"\\ty size = %d\" % len(y))"
   ]
  },
  {
   "cell_type": "code",
   "execution_count": 8,
   "metadata": {
    "collapsed": false
   },
   "outputs": [
    {
     "name": "stdout",
     "output_type": "stream",
     "text": [
      "Preprocessing...\n"
     ]
    }
   ],
   "source": [
    "# Preprocessing \n",
    "print(\"Preprocessing...\")\n",
    "X = [rotate(permute_by_pt(jet)) for jet in X]\n",
    "\n",
    "for jet in X:\n",
    "    jet[\"content\"] = tf.transform(jet[\"content\"])"
   ]
  },
  {
   "cell_type": "code",
   "execution_count": 9,
   "metadata": {
    "collapsed": false
   },
   "outputs": [
    {
     "name": "stdout",
     "output_type": "stream",
     "text": [
      "Loading model...\n",
      "\tfilename = ../models/w-vs-qcd-20160614.pickle\n"
     ]
    }
   ],
   "source": [
    "# Loading model \n",
    "print(\"Loading model...\")\n",
    "\n",
    "fd = open(filename_model, \"rb\")\n",
    "params = pickle.load(fd)\n",
    "fd.close()\n",
    "\n",
    "print(\"\\tfilename = %s\" % filename_model)"
   ]
  },
  {
   "cell_type": "code",
   "execution_count": 10,
   "metadata": {
    "collapsed": false
   },
   "outputs": [
    {
     "name": "stdout",
     "output_type": "stream",
     "text": [
      "Cropping...\n"
     ]
    }
   ],
   "source": [
    "# Cropping\n",
    "print(\"Cropping...\")\n",
    "\n",
    "# X_ = X\n",
    "# y_ = y\n",
    "\n",
    "X_ = [j for j in X if 250 < j[\"pt\"] < 300 and 50 < j[\"mass\"] < 110]\n",
    "y_ = [y[i] for i, j in enumerate(X) if 250 < j[\"pt\"] < 300 and 50 < j[\"mass\"] < 110]"
   ]
  },
  {
   "cell_type": "code",
   "execution_count": 11,
   "metadata": {
    "collapsed": false
   },
   "outputs": [
    {
     "name": "stdout",
     "output_type": "stream",
     "text": [
      "Testing...\n"
     ]
    }
   ],
   "source": [
    "# Testing \n",
    "print(\"Testing...\")\n",
    "\n",
    "predict = grnn_predict_gated\n",
    "y_pred = predict(params, X_)"
   ]
  },
  {
   "cell_type": "markdown",
   "metadata": {},
   "source": [
    "# Roc curves"
   ]
  },
  {
   "cell_type": "code",
   "execution_count": 12,
   "metadata": {
    "collapsed": false
   },
   "outputs": [
    {
     "data": {
      "image/png": "[encoded data removed]",
      "text/plain": [
       "<matplotlib.figure.Figure at 0x7f85e85c4f28>"
      ]
     },
     "metadata": {},
     "output_type": "display_data"
    },
    {
     "name": "stdout",
     "output_type": "stream",
     "text": [
      "ROC AUC = 0.903925715981\n"
     ]
    }
   ],
   "source": [
    "# Make ROC curves\n",
    "from sklearn.metrics import roc_curve\n",
    "from sklearn.metrics import roc_auc_score\n",
    "\n",
    "fpr, tpr, _ = roc_curve(y_, y_pred)\n",
    "plt.plot(fpr, tpr, label=\"recnn (test)\")\n",
    "plt.legend(loc=\"best\")\n",
    "plt.show()\n",
    "\n",
    "print(\"ROC AUC =\", roc_auc_score(y_, y_pred))"
   ]
  },
  {
   "cell_type": "code",
   "execution_count": 13,
   "metadata": {
    "collapsed": false
   },
   "outputs": [
    {
     "name": "stderr",
     "output_type": "stream",
     "text": [
      "/home/gilles/anaconda3/envs/rec-nn/lib/python3.5/site-packages/ipykernel/__main__.py:2: RuntimeWarning: divide by zero encountered in true_divide\n",
      "  from ipykernel import kernelapp as app\n"
     ]
    },
    {
     "data": {
      "image/png": "[encoded data removed]",
      "text/plain": [
       "<matplotlib.figure.Figure at 0x7f85e85d9550>"
      ]
     },
     "metadata": {},
     "output_type": "display_data"
    }
   ],
   "source": [
    "fpr, tpr, _ = roc_curve(y_, y_pred)\n",
    "plt.plot(tpr, 1. / fpr, label=\"recnn (test)\")\n",
    "\n",
    "plt.xlim(0.1, 1.0)\n",
    "plt.ylim(1, 500)\n",
    "plt.yscale(\"log\")\n",
    "plt.grid()\n",
    "plt.legend(loc=\"best\")\n",
    "plt.show()"
   ]
  }
 ],
 "metadata": {
  "kernelspec": {
   "display_name": "Python 3",
   "language": "python",
   "name": "python3"
  },
  "language_info": {
   "codemirror_mode": {
    "name": "ipython",
    "version": 3
   },
   "file_extension": ".py",
   "mimetype": "text/x-python",
   "name": "python",
   "nbconvert_exporter": "python",
   "pygments_lexer": "ipython3",
   "version": "3.5.1"
  }
 },
 "nbformat": 4,
 "nbformat_minor": 0
}
