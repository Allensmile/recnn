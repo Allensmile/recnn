{
 "cells": [
  {
   "cell_type": "markdown",
   "metadata": {},
   "source": [
    "1. j = the highest pt anti-kt jet (R=1)\n",
    "2. run kt (R=0.3) on the constituents c of j, resulting in subjets sj1, sj2, ..., sjN\n",
    "3. phi = sj1.phi(); for all c, do c.rotate_z(-phi)\n",
    "4. bv = sj1.boost_vector(); bv.set_perp(0); for all c, do c.boost(-bv)\n",
    "5. deltaz = sj1.pz - sj2.pz; deltay = sj1.py - sj2.py; alpha = -atan2(deltaz, deltay); for all c, do c.rotate_x(alpha)\n",
    "6. if sj3.pz < 0: for all c, do c.set_pz(-c.pz)\n",
    "7. finally recluster all transformed constituents c into a single jet (using kt or anti-kt? r?)"
   ]
  },
  {
   "cell_type": "code",
   "execution_count": 1,
   "metadata": {
    "collapsed": false
   },
   "outputs": [],
   "source": [
    "%load_ext cython\n",
    "import pickle\n",
    "import numpy as np"
   ]
  },
  {
   "cell_type": "code",
   "execution_count": 2,
   "metadata": {
    "collapsed": false
   },
   "outputs": [],
   "source": [
    "%%cython -f -+ -I/home/gilles/anaconda3/envs/hep/include --link-args=-Wl,-rpath,/home/gilles/anaconda3/envs/hep/lib  -lm -L/home/gilles/anaconda3/envs/hep/lib -lfastjettools -lfastjet -lfastjetplugins -lsiscone_spherical -lsiscone\n",
    "import numpy as np\n",
    "cimport numpy as np\n",
    "np.import_array()\n",
    "\n",
    "from libcpp.pair cimport pair\n",
    "from libcpp.vector cimport vector\n",
    "\n",
    "cdef extern from \"/home/gilles/gdrive/research/sandbox/learning-qcd-rnn/notebooks/fj.cc\":\n",
    "    void fj(vector[double]& a, \n",
    "            vector[vector[int]]& trees, \n",
    "            vector[vector[double]]& contents, \n",
    "            vector[double]& masses, \n",
    "            vector[double]& pts, \n",
    "            double R, int jet_algorithm)\n",
    "    \n",
    "cpdef cluster(np.ndarray[np.double_t, ndim=2, mode=\"c\"] a, \n",
    "              R=0.3, jet_algorithm=0):\n",
    "    cdef vector[double] v\n",
    "    cdef vector[vector[int]] trees\n",
    "    cdef vector[vector[double]] contents\n",
    "    cdef vector[double] masses\n",
    "    cdef vector[double] pts \n",
    "    for value in a.ravel():\n",
    "        v.push_back(value)\n",
    "    \n",
    "    fj(v, trees, contents, masses, pts, R=R, jet_algorithm=jet_algorithm)\n",
    "    jets = []\n",
    "    \n",
    "    for tree, content, mass, pt in zip(trees, contents, masses, pts):\n",
    "        tree = np.array([e for e in tree]).reshape(-1, 2)\n",
    "        content = np.array([e for e in content]).reshape(-1, 4)\n",
    "        jets.append((tree, content, mass, pt))\n",
    "        \n",
    "    return jets"
   ]
  },
  {
   "cell_type": "code",
   "execution_count": 64,
   "metadata": {
    "collapsed": false
   },
   "outputs": [],
   "source": [
    "import copy\n",
    "from rootpy.vector import LorentzVector\n",
    "\n",
    "def preprocess(jet):\n",
    "    jet = copy.deepcopy(jet)\n",
    "    constituents = jet[\"content\"][jet[\"tree\"][:, 0] == -1] \n",
    "\n",
    "    # run kt (R=0.3) on the constituents c of j, resulting in subjets sj1, sj2, ..., sjN\n",
    "    subjets = cluster(constituents, R=0.3, jet_algorithm=0)\n",
    "    \n",
    "    # phi = sj1.phi()\n",
    "    # for all c, do c.rotate_z(-phi)\n",
    "    v = subjets[0][1][0]\n",
    "    v = LorentzVector(v)\n",
    "    phi = v.phi()\n",
    "    \n",
    "    for _, content, _, _ in subjets:\n",
    "        for i in range(len(content)):\n",
    "            v = LorentzVector(content[i])\n",
    "            v.rotate_z(-phi)\n",
    "            content[i, 0] = v[0]\n",
    "            content[i, 1] = v[1]\n",
    "            content[i, 2] = v[2]\n",
    "            content[i, 3] = v[3]\n",
    "            \n",
    "    # bv = sj1.boost_vector()\n",
    "    # bv.set_perp(0)\n",
    "    # for all c, do c.boost(-bv)\n",
    "    v = subjets[0][1][0]\n",
    "    v = LorentzVector(v)\n",
    "    bv = v.boost_vector()\n",
    "    bv.set_perp(0)\n",
    "    \n",
    "    for _, content, _, _ in subjets:        \n",
    "        for i in range(len(content)):\n",
    "            v = LorentzVector(content[i])\n",
    "            v.boost(-bv)\n",
    "            content[i, 0] = v[0]\n",
    "            content[i, 1] = v[1]\n",
    "            content[i, 2] = v[2]\n",
    "            content[i, 3] = v[3]\n",
    "    \n",
    "    # deltaz = sj1.pz - sj2.pz\n",
    "    # deltay = sj1.py - sj2.py\n",
    "    # alpha = -atan2(deltaz, deltay)\n",
    "    # for all c, do c.rotate_x(alpha)\n",
    "    if len(subjets) >= 2:\n",
    "        deltaz = subjets[0][1][0, 2] - subjets[1][1][0, 2]\n",
    "        deltay = subjets[0][1][0, 1] - subjets[1][1][0, 1]\n",
    "        alpha = -np.arctan2(deltaz, deltay)\n",
    "\n",
    "        for _, content, _, _ in subjets:\n",
    "            for i in range(len(content)):\n",
    "                v = LorentzVector(content[i])\n",
    "                v.rotate_x(alpha)\n",
    "                content[i, 0] = v[0]\n",
    "                content[i, 1] = v[1]\n",
    "                content[i, 2] = v[2]\n",
    "                content[i, 3] = v[3]\n",
    "    \n",
    "    # if sj3.pz < 0: for all c, do c.set_pz(-c.pz)\n",
    "    if len(subjets) >= 3 and subjets[2][1][0, 2] < 0:\n",
    "        for _, content, _, _ in subjets:\n",
    "            for i in range(len(content)):\n",
    "                content[i, 2] *= -1.0\n",
    "                \n",
    "    # finally recluster all transformed constituents c into a single jet \n",
    "    constituents = []\n",
    "    \n",
    "    for tree, content, _, _ in subjets:\n",
    "        constituents.append(content[tree[:, 0] == -1])\n",
    "        \n",
    "    constituents = np.vstack(constituents)\n",
    "    subjets = cluster(constituents, R=100., jet_algorithm=1)\n",
    "    \n",
    "    jet[\"tree\"] = subjets[0][0]\n",
    "    jet[\"content\"] = subjets[0][1]\n",
    "    \n",
    "    v = LorentzVector(jet[\"content\"][0])\n",
    "    jet[\"phi\"] = v.phi()\n",
    "    jet[\"eta\"] = v.eta()\n",
    "    jet[\"energy\"] = v.E()\n",
    "    jet[\"mass\"] = v.m()\n",
    "    jet[\"pt\"] = v.pt()\n",
    "    jet[\"root_id\"] = 0\n",
    "    \n",
    "    return jet"
   ]
  },
  {
   "cell_type": "markdown",
   "metadata": {},
   "source": [
    "# Convert data"
   ]
  },
  {
   "cell_type": "code",
   "execution_count": 93,
   "metadata": {
    "collapsed": false
   },
   "outputs": [],
   "source": [
    "fd = open(\"../data/w-vs-qcd/antikt-train.pickle-py27\", \"rb\")\n",
    "X, y = pickle.load(fd)\n",
    "fd.close()\n",
    "\n",
    "X = [preprocess(j) for j in X]\n",
    "\n",
    "fd = open(\"../data/w-vs-qcd/antikt-train-pp.pickle-py27\", \"wb\")\n",
    "pickle.dump((X, y), fd, protocol=2)\n",
    "fd.close()"
   ]
  },
  {
   "cell_type": "markdown",
   "metadata": {},
   "source": [
    "# Checks"
   ]
  },
  {
   "cell_type": "code",
   "execution_count": 65,
   "metadata": {
    "collapsed": true
   },
   "outputs": [],
   "source": [
    "fd = open(\"../data/w-vs-qcd/antikt-test.pickle-py27\", \"rb\")\n",
    "X, y = pickle.load(fd)\n",
    "fd.close()"
   ]
  },
  {
   "cell_type": "code",
   "execution_count": 66,
   "metadata": {
    "collapsed": true
   },
   "outputs": [],
   "source": [
    "%matplotlib inline\n",
    "import matplotlib.pyplot as plt\n",
    "plt.rcParams[\"figure.figsize\"] = (6,6)\n",
    "from rootpy.vector import LorentzVector"
   ]
  },
  {
   "cell_type": "code",
   "execution_count": 67,
   "metadata": {
    "collapsed": true
   },
   "outputs": [],
   "source": [
    "from matplotlib.colors import LogNorm\n",
    "a = []\n",
    "\n",
    "for j in X[10000:]:\n",
    "    if 50 < j[\"mass\"] < 110 and 200 < j[\"pt\"] < 500:\n",
    "        j = preprocess(j)\n",
    "        constituents = j[\"content\"][j[\"tree\"][:, 0] == -1]\n",
    "        a.append(np.array([[LorentzVector(c).eta(), \n",
    "                            LorentzVector(c).phi()] for c in constituents]))\n",
    "    \n",
    "a = np.vstack(a)"
   ]
  },
  {
   "cell_type": "code",
   "execution_count": 68,
   "metadata": {
    "collapsed": false
   },
   "outputs": [
    {
     "data": {
      "image/png": "[encoded data removed]",
      "text/plain": [
       "<matplotlib.figure.Figure at 0x7f07ad8e2d10>"
      ]
     },
     "metadata": {},
     "output_type": "display_data"
    }
   ],
   "source": [
    "plt.hist2d(a[:, 0], a[:, 1], range=[(-2,2), (-2,2)], bins=30, cmap=\"viridis\", norm=LogNorm())\n",
    "plt.show()"
   ]
  }
 ],
 "metadata": {
  "kernelspec": {
   "display_name": "Python 2",
   "language": "python",
   "name": "python2"
  },
  "language_info": {
   "codemirror_mode": {
    "name": "ipython",
    "version": 2
   },
   "file_extension": ".py",
   "mimetype": "text/x-python",
   "name": "python",
   "nbconvert_exporter": "python",
   "pygments_lexer": "ipython2",
   "version": "2.7.11"
  }
 },
 "nbformat": 4,
 "nbformat_minor": 0
}
